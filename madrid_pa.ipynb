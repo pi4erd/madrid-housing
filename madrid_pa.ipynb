{
 "cells": [
  {
   "cell_type": "markdown",
   "metadata": {},
   "source": [
    "# Madrid Housing Prices Analysis\n",
    "\n",
    "Data on flats from https://www.kaggle.com/datasets/mirbektoktogaraev/madrid-real-estate-market/data\n",
    "\n",
    "Airbnb data: http://insideairbnb.com/get-the-data/\n",
    "\n",
    "Location data from API (for neighborhoods and streets): https://here.com (geocoding)\n",
    "\n",
    "## Initialization (aquiring data)"
   ]
  },
  {
   "cell_type": "code",
   "execution_count": null,
   "metadata": {},
   "outputs": [],
   "source": [
    "import pandas as pd\n",
    "import geopandas as gpd\n",
    "import json\n",
    "import folium\n",
    "import numpy as np"
   ]
  },
  {
   "cell_type": "code",
   "execution_count": null,
   "metadata": {},
   "outputs": [],
   "source": [
    "# Load data\n",
    "df_houses = pd.read_csv('houses_Madrid.csv')"
   ]
  },
  {
   "cell_type": "code",
   "execution_count": null,
   "metadata": {},
   "outputs": [],
   "source": [
    "# Load locations that we got from an API\n",
    "neighborhood_locations = {}\n",
    "\n",
    "with open(\"saved_locations.json\", 'r') as f:\n",
    "    neighborhood_locations = json.load(f)\n",
    "    \n",
    "street_locations = {}\n",
    "with open(\"street_locations.json\", 'r') as f:\n",
    "    street_locations = json.load(f)"
   ]
  },
  {
   "cell_type": "markdown",
   "metadata": {},
   "source": [
    "## Data analysis and visualization"
   ]
  },
  {
   "cell_type": "code",
   "execution_count": null,
   "metadata": {},
   "outputs": [],
   "source": [
    "import matplotlib.pyplot as plt"
   ]
  },
  {
   "cell_type": "code",
   "execution_count": null,
   "metadata": {},
   "outputs": [],
   "source": [
    "# Price VS number of rooms\n",
    "nroom_group = df_houses.groupby('n_rooms')\n",
    "\n",
    "nroom_mean_price = nroom_group['buy_price'].mean()\n",
    "\n",
    "fig, ax = plt.subplots(figsize=(15, 7))\n",
    "\n",
    "ax.set_xlabel(\"Number of rooms\")\n",
    "ax.set_ylabel(\"Buy price, €\")\n",
    "ax.set_title(\"Price vs Number of rooms\")\n",
    "\n",
    "ax.bar(x=nroom_mean_price.index, height=nroom_mean_price)"
   ]
  },
  {
   "cell_type": "code",
   "execution_count": null,
   "metadata": {},
   "outputs": [],
   "source": [
    "# Price VS Area\n",
    "group_areas = df_houses.groupby('sq_mt_built')\n",
    "\n",
    "fig, ax = plt.subplots(figsize=(15, 7))\n",
    "\n",
    "area_mean_price = group_areas['buy_price'].mean()\n",
    "\n",
    "ax.set_title(\"Price vs Area\")\n",
    "ax.set_xlabel(\"Area (sq mt)\")\n",
    "ax.set_ylabel(\"Price, €\")\n",
    "\n",
    "ax.plot(area_mean_price.index, area_mean_price)"
   ]
  },
  {
   "cell_type": "code",
   "execution_count": null,
   "metadata": {},
   "outputs": [],
   "source": [
    "# Number of rows VS neighborhood ids\n",
    "neighborhood_group = df_houses.groupby('subtitle')\n",
    "\n",
    "nhg_sizes = neighborhood_group.size()\n",
    "plot, ax = plt.subplots(figsize=(22, 10))\n",
    "plt.setp(ax.get_xticklabels(), rotation=60, horizontalalignment='right')\n",
    "ax.bar(x=nhg_sizes.index, height=nhg_sizes)"
   ]
  },
  {
   "cell_type": "markdown",
   "metadata": {},
   "source": [
    "### Visualizing street data"
   ]
  },
  {
   "cell_type": "code",
   "execution_count": null,
   "metadata": {},
   "outputs": [],
   "source": [
    "# Initialize map\n",
    "m = folium.Map(location=[40.37654, -3.60837], zoom_start=9.5)"
   ]
  },
  {
   "cell_type": "code",
   "execution_count": null,
   "metadata": {},
   "outputs": [],
   "source": [
    "import colorsys"
   ]
  },
  {
   "cell_type": "code",
   "execution_count": null,
   "metadata": {},
   "outputs": [],
   "source": [
    "def plot_dot(map: folium.Map, lat: float, lng: float, **kwargs):\n",
    "    \"\"\"Plot dot on map with parameters\n",
    "    \"\"\"\n",
    "    rad = kwargs.get('radius')\n",
    "    weight = kwargs.get('weight')\n",
    "    color = kwargs.get('color')\n",
    "    popup_text = kwargs.get('popup')\n",
    "    \n",
    "    folium.CircleMarker(location=[lat, lng],\n",
    "                        radius=rad if rad is not None else 1,\n",
    "                        weight=weight if weight is not None else 3,\n",
    "                        color=color if color is not None else \"#3388FF\").add_to(map)\\\n",
    "                            .add_child(folium.Popup(popup_text))\n",
    "\n",
    "def rgb_to_hexstr(r: int, g: int, b: int) -> str:\n",
    "    \"\"\"Converts RGB values to hex string\n",
    "    \"\"\"\n",
    "    r = (r if r >= 0 else 0) if r <= 255 else 255\n",
    "    g = (g if g >= 0 else 0) if g <= 255 else 255\n",
    "    b = (b if b >= 0 else 0) if b <= 255 else 255\n",
    "    return f'#{r:02x}{g:02x}{b:02x}'\n",
    "\n",
    "def mapf(n: float, min1: float, max1: float, min2: float, max2: float) -> float:\n",
    "    \"\"\"Maps a value between (min1, max1) to (min2, max2)\n",
    "    \"\"\"\n",
    "    return ((n - min1) / (max1 - min1)) * (max2 - min2) + min2"
   ]
  },
  {
   "cell_type": "code",
   "execution_count": null,
   "metadata": {},
   "outputs": [],
   "source": [
    "# Clean houses DF\n",
    "df_houses_clean = df_houses.loc[df_houses['buy_price'].notna() & \\\n",
    "    df_houses['sq_mt_built'].notna() & \\\n",
    "    df_houses['buy_price_by_area'].notna() & \\\n",
    "    (df_houses['sq_mt_built'] > 50.0) & \\\n",
    "    (df_houses['sq_mt_built'] < 100.0)]\n",
    "# we cut everything lower than 50sqmt and above 100sqmt"
   ]
  },
  {
   "cell_type": "code",
   "execution_count": null,
   "metadata": {},
   "outputs": [],
   "source": [
    "# Extract neighborhood name from 'subtitle' column\n",
    "\n",
    "df_houses_clean['neighbourhood'] = df_houses_clean['subtitle'].str.extract(r\"(.*), Madrid\")[0]"
   ]
  },
  {
   "cell_type": "code",
   "execution_count": null,
   "metadata": {},
   "outputs": [],
   "source": [
    "# Find min/max prices\n",
    "min_price = df_houses_clean['buy_price'].min()\n",
    "max_price = df_houses_clean['buy_price'].max()\n",
    "\n",
    "min_price_by_area = df_houses_clean['buy_price_by_area'].min()\n",
    "max_price_by_area = df_houses_clean['buy_price_by_area'].max()"
   ]
  },
  {
   "cell_type": "code",
   "execution_count": null,
   "metadata": {},
   "outputs": [],
   "source": [
    "# Process values and add them to the map\n",
    "for street in street_locations.values():\n",
    "    try:\n",
    "        data = df_houses_clean.iloc[street['idx']]\n",
    "    except IndexError:\n",
    "        continue # skip if index isn't in dataframe\n",
    "    mapped_price = mapf(data['buy_price_by_area'], min_price_by_area, max_price_by_area, 0.0, 1.0) ** 0.5\n",
    "    color = [int(c * 255) for c in colorsys.hsv_to_rgb(0.3, 0.5 + mapped_price * 0.5, 1.0 - mapped_price)]\n",
    "    plot_dot(m, street['loc']['lat'], street['loc']['lng'], \n",
    "             radius=2, weight=4, color=rgb_to_hexstr(color[0], color[1], color[2]),\n",
    "             popup=f'Price per SqMt: {data['buy_price_by_area']}')"
   ]
  },
  {
   "cell_type": "code",
   "execution_count": null,
   "metadata": {},
   "outputs": [],
   "source": [
    "gdf_districts = gpd.GeoDataFrame.from_file(\"neighbourhoods.geojson\")"
   ]
  },
  {
   "cell_type": "code",
   "execution_count": null,
   "metadata": {},
   "outputs": [],
   "source": [
    "df_house_group = df_houses_clean.groupby('neighbourhood')\n",
    "df_house_prices = df_house_group.mean(numeric_only=True).reset_index()"
   ]
  },
  {
   "cell_type": "code",
   "execution_count": null,
   "metadata": {},
   "outputs": [],
   "source": [
    "# District Choropleth\n",
    "\n",
    "ENABLE_DISTRICTS = False\n",
    "\n",
    "# FIXME: This doesn't work now\n",
    "if ENABLE_DISTRICTS:\n",
    "    choropleth = folium.Choropleth(\n",
    "        geo_data = gdf_districts,\n",
    "        data = df_house_prices,\n",
    "        columns = ['neighbourhood', 'buy_price'],\n",
    "        key_on = 'features.properties.neighbourhood',\n",
    "        fill_opacity = 0.7,\n",
    "        fill_color = 'Greens',\n",
    "        name = 'Prices',\n",
    "        line_opacity = 1.0,\n",
    "        line_weight = 2.0,\n",
    "        legend_name = \"Neighborhood average prices\",\n",
    "        smooth_factor = 0.0\n",
    "    ).add_to(m)"
   ]
  },
  {
   "cell_type": "code",
   "execution_count": null,
   "metadata": {},
   "outputs": [],
   "source": [
    "m"
   ]
  },
  {
   "cell_type": "markdown",
   "metadata": {},
   "source": [
    "## Second dataset\n",
    "\n",
    "Next is analysis of rent prices of ABNB listings for 2023"
   ]
  },
  {
   "cell_type": "code",
   "execution_count": null,
   "metadata": {},
   "outputs": [],
   "source": [
    "df_abnb_listings = pd.read_csv(\"AirbnbListingsNew.csv\")"
   ]
  },
  {
   "cell_type": "code",
   "execution_count": null,
   "metadata": {},
   "outputs": [],
   "source": [
    "gdf_neighborhoods: gpd.GeoDataFrame = gpd.GeoDataFrame.from_file('neighbourhoods.geojson')"
   ]
  },
  {
   "cell_type": "code",
   "execution_count": null,
   "metadata": {},
   "outputs": [],
   "source": [
    "df_abnb_price_clean = df_abnb_listings.loc[(df_abnb_listings['price'].notna()) & (df_abnb_listings['price'] < 500.0) & (df_abnb_listings['price'] > 15.0)]"
   ]
  },
  {
   "cell_type": "code",
   "execution_count": null,
   "metadata": {},
   "outputs": [],
   "source": [
    "import re\n",
    "\n",
    "def extract_bedrooms_from_title(title: str) -> int | None:\n",
    "    \"\"\"Extracts bedroom number from title (for calculations)\n",
    "    \"\"\"\n",
    "    rgx = re.compile(r\"(\\d+)\\sbedroom\")\n",
    "    rgx_studio = re.compile(r\"[Ss]tudio\")\n",
    "    \n",
    "    rgx_match = rgx.search(title)\n",
    "    \n",
    "    if rgx_match is None:\n",
    "        if rgx_studio.search(title) is None:\n",
    "            return None\n",
    "        return 1\n",
    "    \n",
    "    rgx_num = rgx_match.group(1)\n",
    "\n",
    "    return int(rgx_num)"
   ]
  },
  {
   "cell_type": "code",
   "execution_count": null,
   "metadata": {},
   "outputs": [],
   "source": [
    "# Extract bedrooms\n",
    "\n",
    "bedroom_counts = []\n",
    "prices_per_bedroom = []\n",
    "for idx, listing in df_abnb_price_clean.iterrows():\n",
    "    bedroom_count = extract_bedrooms_from_title(listing['name'])\n",
    "    if bedroom_count is None:\n",
    "        bedroom_counts.append(np.nan)\n",
    "        prices_per_bedroom.append(np.nan)\n",
    "        continue\n",
    "    bedroom_counts.append(float(bedroom_count))\n",
    "    prices_per_bedroom.append(listing['price'] / bedroom_count)"
   ]
  },
  {
   "cell_type": "code",
   "execution_count": null,
   "metadata": {},
   "outputs": [],
   "source": [
    "# Clean prices more\n",
    "df_abnb_price_clean = df_abnb_price_clean.assign(bedroom_count=bedroom_counts,\n",
    "                                                 price_per_bedroom=prices_per_bedroom)\n",
    "df_abnb_price_clean = df_abnb_price_clean.loc[\n",
    "    df_abnb_price_clean['bedroom_count'].notna() & \\\n",
    "    df_abnb_price_clean['price_per_bedroom'].notna()\n",
    "]\n",
    "\n",
    "df_abnb_price_clean['bedroom_count_str'] = df_abnb_price_clean['bedroom_count'].astype(str)\n",
    "df_abnb_price_clean.loc[df_abnb_price_clean['bedroom_count'] >= 4, 'bedroom_count_str'] = '>4'"
   ]
  },
  {
   "cell_type": "code",
   "execution_count": null,
   "metadata": {},
   "outputs": [],
   "source": [
    "# NOTE: Used to be constrained for calculations. Now deprecated since we group data\n",
    "df_abnb_room_constraint = df_abnb_price_clean"
   ]
  },
  {
   "cell_type": "code",
   "execution_count": null,
   "metadata": {},
   "outputs": [],
   "source": [
    "# Calculate prices\n",
    "\n",
    "min_price = df_abnb_room_constraint['price'].min()\n",
    "max_price = df_abnb_room_constraint['price'].max()\n",
    "\n",
    "min_price_per_bedroom = df_abnb_room_constraint['price_per_bedroom'].min()\n",
    "max_price_per_bedroom = df_abnb_room_constraint['price_per_bedroom'].max()"
   ]
  },
  {
   "cell_type": "code",
   "execution_count": null,
   "metadata": {},
   "outputs": [],
   "source": [
    "from shapely.geometry import Point, Polygon"
   ]
  },
  {
   "cell_type": "code",
   "execution_count": null,
   "metadata": {},
   "outputs": [],
   "source": [
    "# Calculate and visualize points on a map\n",
    "new_map = folium.Map(location=[40.37654, -3.60837], zoom_start=9.5)"
   ]
  },
  {
   "cell_type": "code",
   "execution_count": null,
   "metadata": {},
   "outputs": [],
   "source": [
    "# Make lat/lng points into list\n",
    "points = [Point(listing['longitude'], listing['latitude']) for _, listing in df_abnb_room_constraint.iterrows()]"
   ]
  },
  {
   "cell_type": "code",
   "execution_count": null,
   "metadata": {},
   "outputs": [],
   "source": [
    "gdf_points = gpd.GeoDataFrame(df_abnb_room_constraint, geometry=points, crs=4326)\n",
    "\n",
    "# Get points WITHIN neighborhoods\n",
    "gdf_points_in = gpd.sjoin(gdf_points, gdf_neighborhoods, predicate='within')"
   ]
  },
  {
   "cell_type": "code",
   "execution_count": null,
   "metadata": {},
   "outputs": [],
   "source": [
    "# Group neighborhoods and get average price per bedroom\n",
    "gdf_neigborhood_group = gdf_points_in.groupby('neighbourhood_right')\n",
    "\n",
    "df_neighborhood_mean_price = gdf_neigborhood_group['price_per_bedroom'].mean()\n",
    "df_neighborhood_flats_count = gdf_neigborhood_group.size()"
   ]
  },
  {
   "cell_type": "code",
   "execution_count": null,
   "metadata": {},
   "outputs": [],
   "source": [
    "# Count listings in neighborhood with specific amount of rooms\n",
    "\n",
    "gdf_neigborhood_groups_group = gdf_points_in.groupby('neighbourhood_group_right')\n",
    "\n",
    "df_bedroom_count_groups = pd.DataFrame(gdf_neigborhood_groups_group[['bedroom_count_str']].value_counts())\n",
    "\n",
    "df_bedroom_count_groups['percentage'] = 100.0 * df_bedroom_count_groups['count'] / gdf_neigborhood_groups_group['bedroom_count'].size()\n",
    "\n",
    "# Plot percentage of distribution of bedrooms\n",
    "df_bedroom_pivot_table = df_bedroom_count_groups.pivot_table(values='percentage', index='neighbourhood_group_right', columns=['bedroom_count_str'])\n",
    "df_bedroom_pivot_table.plot(kind='bar', stacked=True, title='Percentage of flats with specific number of rooms in each neighbourhood')"
   ]
  },
  {
   "cell_type": "code",
   "execution_count": null,
   "metadata": {},
   "outputs": [],
   "source": [
    "df_bedroom_pivot_table = df_bedroom_count_groups.pivot_table(values='count', index='neighbourhood_group_right', columns=['bedroom_count_str'])\n",
    "df_bedroom_pivot_table.plot(kind='bar', stacked=True, title='Number of flats with specific number of rooms in each neighbourhood')"
   ]
  },
  {
   "cell_type": "code",
   "execution_count": null,
   "metadata": {},
   "outputs": [],
   "source": [
    "# Prepare grouped dataframes\n",
    "\n",
    "df_bedrooms_single = gdf_points_in.loc[gdf_points_in['bedroom_count_str'] == '1.0']\n",
    "df_bedrooms_two = gdf_points_in.loc[gdf_points_in['bedroom_count_str'] == '2.0']\n",
    "df_bedrooms_three = gdf_points_in.loc[gdf_points_in['bedroom_count_str'] == '3.0']\n",
    "df_bedrooms_more = gdf_points_in.loc[gdf_points_in['bedroom_count_str'] == '>4']\n",
    "\n",
    "single_prices = df_bedrooms_single.groupby('neighbourhood_group_right')['price_per_bedroom'].mean()\n",
    "two_prices = df_bedrooms_two.groupby('neighbourhood_group_right')['price_per_bedroom'].mean()\n",
    "three_prices = df_bedrooms_three.groupby('neighbourhood_group_right')['price_per_bedroom'].mean()\n",
    "more_prices = df_bedrooms_more.groupby('neighbourhood_group_right')['price_per_bedroom'].mean()\n",
    "\n",
    "single_prices.name = '1'\n",
    "two_prices.name = '2'\n",
    "three_prices.name = '3'\n",
    "more_prices.name = '>4'\n",
    "\n",
    "mean_price_all = gdf_neigborhood_groups_group['price_per_bedroom'].mean()\n",
    "mean_price_all.name = 'all'\n",
    "\n",
    "df_prices_data = pd.concat([single_prices, two_prices, three_prices, more_prices, mean_price_all], axis=1).reset_index()"
   ]
  },
  {
   "cell_type": "code",
   "execution_count": null,
   "metadata": {},
   "outputs": [],
   "source": [
    "# Display distribution of number of bedrooms for each neighborhood\n",
    "\n",
    "import seaborn as sns\n",
    "\n",
    "plt.figure(figsize=(15, 10))\n",
    "ax = sns.scatterplot(df_prices_data.sort_values('1', ascending=False)\n",
    "                     .set_index('neighbourhood_group_right'))\n",
    "ax.set_title('Average price of each group of flats in each neighborhood')\n",
    "ax.set_ylabel('Price per bedroom, €')\n",
    "ax.set_xlabel(\"District name\")\n",
    "ax.set_xticklabels(ax.get_xticklabels(), rotation = 45, ha='right')\n",
    "plt.tight_layout()\n",
    "plt.show()"
   ]
  },
  {
   "cell_type": "code",
   "execution_count": null,
   "metadata": {},
   "outputs": [],
   "source": [
    "# Show mean price on map\n",
    "\n",
    "folium.Choropleth(\n",
    "    geo_data=gdf_neighborhoods,\n",
    "    name='choropleth',\n",
    "    data=df_neighborhood_mean_price,\n",
    "    columns=['neighbourhood_group_right', 'price_per_bedroom'],\n",
    "    key_on='feature.properties.neighbourhood',\n",
    "    fill_color='YlGnBu',\n",
    "    fill_opacity=0.7,\n",
    "    line_opacity=1.0,\n",
    "    line_weight=2.0,\n",
    "    legend_name=\"Neighborhood mean price per bedroom\"\n",
    ").add_to(new_map)"
   ]
  },
  {
   "cell_type": "code",
   "execution_count": null,
   "metadata": {},
   "outputs": [],
   "source": [
    "# Plot dots for each listing\n",
    "\n",
    "PLOT_DOTS = True\n",
    "\n",
    "if PLOT_DOTS:\n",
    "    for name, listing in df_abnb_room_constraint.iterrows():\n",
    "        price_per_bedroom = listing['price_per_bedroom']\n",
    "        mapped_price = mapf(price_per_bedroom, min_price_per_bedroom, max_price_per_bedroom, 0.0, 1.0) ** 0.5\n",
    "        color = [int(c * 255) for c in colorsys.hsv_to_rgb(0.3, 0.5 + mapped_price * 0.5, 1.0 - mapped_price)]\n",
    "        plot_dot(new_map, listing['latitude'], listing['longitude'], \n",
    "                color=rgb_to_hexstr(color[0], color[1], color[2]), \n",
    "                radius=1, weight=2, popup=f'Price per bedroom: {listing['price_per_bedroom']}\\nTotal price: {listing['price']}')"
   ]
  },
  {
   "cell_type": "code",
   "execution_count": null,
   "metadata": {},
   "outputs": [],
   "source": [
    "new_map"
   ]
  }
 ],
 "metadata": {
  "kernelspec": {
   "display_name": "base",
   "language": "python",
   "name": "python3"
  },
  "language_info": {
   "codemirror_mode": {
    "name": "ipython",
    "version": 3
   },
   "file_extension": ".py",
   "mimetype": "text/x-python",
   "name": "python",
   "nbconvert_exporter": "python",
   "pygments_lexer": "ipython3",
   "version": "3.12.2"
  }
 },
 "nbformat": 4,
 "nbformat_minor": 2
}
