{
 "cells": [
  {
   "cell_type": "markdown",
   "metadata": {},
   "source": [
    "# Madrid Housing Prices Analysis\n",
    "\n",
    "Data on flats from https://www.kaggle.com/datasets/mirbektoktogaraev/madrid-real-estate-market/data\n",
    "\n",
    "Location data from API (for neighborhoods and streets): https://here.com (geocoding)\n",
    "\n",
    "## Initialization (aquiring data)"
   ]
  },
  {
   "cell_type": "code",
   "execution_count": 2,
   "metadata": {},
   "outputs": [],
   "source": [
    "import pandas as pd\n",
    "import plotly as plt\n",
    "import geopandas as gpd\n",
    "import json\n",
    "import folium"
   ]
  },
  {
   "cell_type": "code",
   "execution_count": 3,
   "metadata": {},
   "outputs": [
    {
     "name": "stdout",
     "output_type": "stream",
     "text": [
      "<class 'pandas.core.frame.DataFrame'>\n",
      "RangeIndex: 21742 entries, 0 to 21741\n",
      "Data columns (total 58 columns):\n",
      " #   Column                        Non-Null Count  Dtype  \n",
      "---  ------                        --------------  -----  \n",
      " 0   Unnamed: 0                    21742 non-null  int64  \n",
      " 1   id                            21742 non-null  int64  \n",
      " 2   title                         21742 non-null  object \n",
      " 3   subtitle                      21742 non-null  object \n",
      " 4   sq_mt_built                   21616 non-null  float64\n",
      " 5   sq_mt_useful                  8228 non-null   float64\n",
      " 6   n_rooms                       21742 non-null  int64  \n",
      " 7   n_bathrooms                   21726 non-null  float64\n",
      " 8   n_floors                      1437 non-null   float64\n",
      " 9   sq_mt_allotment               1432 non-null   float64\n",
      " 10  latitude                      0 non-null      float64\n",
      " 11  longitude                     0 non-null      float64\n",
      " 12  raw_address                   16277 non-null  object \n",
      " 13  is_exact_address_hidden       21742 non-null  bool   \n",
      " 14  street_name                   15837 non-null  object \n",
      " 15  street_number                 6300 non-null   object \n",
      " 16  portal                        0 non-null      float64\n",
      " 17  floor                         19135 non-null  object \n",
      " 18  is_floor_under                20572 non-null  object \n",
      " 19  door                          0 non-null      float64\n",
      " 20  neighborhood_id               21742 non-null  object \n",
      " 21  operation                     21742 non-null  object \n",
      " 22  rent_price                    21742 non-null  int64  \n",
      " 23  rent_price_by_area            0 non-null      float64\n",
      " 24  is_rent_price_known           21742 non-null  bool   \n",
      " 25  buy_price                     21742 non-null  int64  \n",
      " 26  buy_price_by_area             21742 non-null  int64  \n",
      " 27  is_buy_price_known            21742 non-null  bool   \n",
      " 28  house_type_id                 21351 non-null  object \n",
      " 29  is_renewal_needed             21742 non-null  bool   \n",
      " 30  is_new_development            20750 non-null  object \n",
      " 31  built_year                    10000 non-null  float64\n",
      " 32  has_central_heating           13608 non-null  object \n",
      " 33  has_individual_heating        13608 non-null  object \n",
      " 34  are_pets_allowed              0 non-null      float64\n",
      " 35  has_ac                        11211 non-null  object \n",
      " 36  has_fitted_wardrobes          13399 non-null  object \n",
      " 37  has_lift                      19356 non-null  object \n",
      " 38  is_exterior                   18699 non-null  object \n",
      " 39  has_garden                    1556 non-null   object \n",
      " 40  has_pool                      5171 non-null   object \n",
      " 41  has_terrace                   9548 non-null   object \n",
      " 42  has_balcony                   3321 non-null   object \n",
      " 43  has_storage_room              7698 non-null   object \n",
      " 44  is_furnished                  0 non-null      float64\n",
      " 45  is_kitchen_equipped           0 non-null      float64\n",
      " 46  is_accessible                 4074 non-null   object \n",
      " 47  has_green_zones               4057 non-null   object \n",
      " 48  energy_certificate            21742 non-null  object \n",
      " 49  has_parking                   21742 non-null  bool   \n",
      " 50  has_private_parking           0 non-null      float64\n",
      " 51  has_public_parking            0 non-null      float64\n",
      " 52  is_parking_included_in_price  7719 non-null   object \n",
      " 53  parking_price                 7719 non-null   float64\n",
      " 54  is_orientation_north          11358 non-null  object \n",
      " 55  is_orientation_west           11358 non-null  object \n",
      " 56  is_orientation_south          11358 non-null  object \n",
      " 57  is_orientation_east           11358 non-null  object \n",
      "dtypes: bool(5), float64(17), int64(6), object(30)\n",
      "memory usage: 8.9+ MB\n"
     ]
    }
   ],
   "source": [
    "# Load data\n",
    "df_houses = pd.read_csv('houses_Madrid.csv')\n",
    "\n",
    "df_houses.info()"
   ]
  },
  {
   "cell_type": "code",
   "execution_count": 4,
   "metadata": {},
   "outputs": [],
   "source": [
    "# Load locations that we got from an API\n",
    "neighborhood_locations = {}\n",
    "\n",
    "with open(\"saved_locations.json\", \"r\") as f:\n",
    "    neighborhood_locations = json.load(f)\n",
    "    \n",
    "street_locations = {}\n",
    "with open(\"street_locations_UT.json\", 'r') as f:\n",
    "    street_locations = json.load(f)"
   ]
  },
  {
   "cell_type": "markdown",
   "metadata": {},
   "source": [
    "## Data analysis and visualization"
   ]
  },
  {
   "cell_type": "code",
   "execution_count": null,
   "metadata": {},
   "outputs": [],
   "source": []
  }
 ],
 "metadata": {
  "kernelspec": {
   "display_name": "base",
   "language": "python",
   "name": "python3"
  },
  "language_info": {
   "codemirror_mode": {
    "name": "ipython",
    "version": 3
   },
   "file_extension": ".py",
   "mimetype": "text/x-python",
   "name": "python",
   "nbconvert_exporter": "python",
   "pygments_lexer": "ipython3",
   "version": "3.11.5"
  }
 },
 "nbformat": 4,
 "nbformat_minor": 2
}
